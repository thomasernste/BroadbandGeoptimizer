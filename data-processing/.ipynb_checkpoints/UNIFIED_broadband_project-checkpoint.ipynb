{
 "cells": [
  {
   "cell_type": "code",
   "execution_count": 3,
   "metadata": {},
   "outputs": [
    {
     "name": "stdout",
     "output_type": "stream",
     "text": [
      "+--------------------+---------------+-----+----------+------------+----------+------------+----------+\n",
      "|            dba_name|   census_block|state|technology|ma_downspeed|ma_upspeed|mc_downspeed|mc_upspeed|\n",
      "+--------------------+---------------+-----+----------+------------+----------+------------+----------+\n",
      "|   unWired Broadband|060770053034016|   CA|        70|          21|         5|         200|       200|\n",
      "|                  t6|550590029041059|   WI|        70|           5|         1|        1000|      1000|\n",
      "|   Veracity Networks|490351031002010|   UT|        30|          12|        12|          12|        12|\n",
      "|Monmouth Telephon...|340155016082005|   NJ|        50|           0|         0|         100|       100|\n",
      "|Morris Broadband,...|371139706003009|   NC|        42|         100|         5|         100|         5|\n",
      "|                null|           null| null|      null|        null|      null|        null|      null|\n",
      "|Great Basin Inter...|320310012012053|   NV|        70|          12|         3|           0|         0|\n",
      "|                  t6|170759506001009|   IL|        70|           5|         1|        1000|      1000|\n",
      "|               Digis|490451307011026|   UT|        70|          15|         3|        1000|      1000|\n",
      "| StarTouch Broadband|530770018004053|   WA|        70|          25|        25|        1000|      1000|\n",
      "|                  t6|551270016031002|   WI|        70|           5|         1|        1000|      1000|\n",
      "|          Centennial|720757108004017|   PR|        70|           0|         0|           7|         7|\n",
      "|Monmouth Telephon...|340390331005006|   NJ|        50|           0|         0|         100|       100|\n",
      "|   Veracity Networks|490490028021011|   UT|        50|        1000|      1000|        1000|      1000|\n",
      "|                null|           null| null|      null|        null|      null|        null|      null|\n",
      "|          Centennial|721191304021003|   PR|        70|           0|         0|        1000|      1000|\n",
      "|South Central UT ...|490011002001316|   UT|        12|          50|         3|          50|         3|\n",
      "|                null|           null| null|      null|        null|      null|        null|      null|\n",
      "|   Polar Telcom, INC|380999583002432|   ND|        70|           5|         1|           0|         0|\n",
      "|Morris Broadband,...|370899307031076|   NC|        42|         100|         5|         100|         5|\n",
      "+--------------------+---------------+-----+----------+------------+----------+------------+----------+\n",
      "only showing top 20 rows\n",
      "\n"
     ]
    }
   ],
   "source": [
    "# This script processes a dataset available in an S3 bucket conataining information about broadband availability across the United States.            # Specifically, the data shows available broadband speeds,the broadband         # infrastrucure technologies, and the provider names for broadband systems      # across the more than 11 million US census blocks in the United States.\n",
    "# The data source, file structure including variable names, and other documentation for the broadband dataset is available here: \n",
    "# https://opendata.fcc.gov/Wireline/Fixed-Broadband-Deployment-Data-June-2017-Status-V/9r8r-g7ut\n",
    "\n",
    "# If PYTHONPATH is not set, findspark and findspark.init() will find it on your machine \n",
    "import findspark\n",
    "findspark.init()\n",
    "\n",
    "import re\n",
    "import sys\n",
    "import spark\n",
    "from pyspark import SparkContext\n",
    "from pyspark.sql.types import *\n",
    "import os\n",
    "import sys\n",
    "from pyspark.sql.functions import size\n",
    "\n",
    "from pyspark.sql.functions import substring, length, col, expr\n",
    "\n",
    "\n",
    "# schemaString = 'something'\n",
    "\n",
    "# fields = [StructField(field_name, StringType(), True) for field_name in schemaString.split()]\n",
    "\n",
    "from pyspark.sql import SparkSession\n",
    "spark = SparkSession \\\n",
    "        .builder \\\n",
    "        .master('local') \\\n",
    "        .appName(\"BroadbandScout\")\\\n",
    "        .getOrCreate()\n",
    "\n",
    "sc = SparkContext.getOrCreate()\n",
    "\n",
    "\n",
    "pathname_input = 's3a://sparkforinsightproject/Fixed_Broadband_Deployment_Data__June__2017_Status_V1.csv'\n",
    "\n",
    "pathname_output = 's3a://sparkforinsightproject/database_data/sparkdf_broadband_output_2'\n",
    "\n",
    "sc = SparkContext.getOrCreate()\n",
    "\n",
    "def etl_broadband(input_data_txt):\n",
    "\n",
    "    broadband_schema = StructType([\n",
    "        StructField(\"Logical Record Number\", StringType(), True),\n",
    "        StructField(\"Provider ID\", StringType(), True),\n",
    "        StructField(\"FRN\", StringType(), True),\n",
    "        StructField(\"Provider Name\", StringType(), True),\n",
    "        StructField(\"DBA Name\", StringType(), True),\n",
    "        StructField(\"Holding Company Name\", StringType(), True),\n",
    "        StructField(\"Holding Company Number\", StringType(), True),\n",
    "        StructField(\"Holding Company Final\", StringType(), True),\n",
    "        StructField(\"State\", StringType(), True),\n",
    "        StructField(\"Census Block FIPS Code\", StringType(), True),\n",
    "        StructField(\"Technology Code\", StringType(), True),\n",
    "        StructField(\"Consumer\", StringType(), True),\n",
    "        StructField(\"Max Advertised Downstream Speed (mbps)\", IntegerType(), True),\n",
    "        StructField(\"Max Advertised Upstream Speed (mbps)\", IntegerType(), True),\n",
    "        StructField(\"Business\", StringType(), True),\n",
    "        StructField(\"Max CIR Downstream Speed (mbps)\", IntegerType(), True),\n",
    "        StructField(\"Max CIR Upstream Speed (mbps)\", IntegerType(), True)\n",
    "        ])\n",
    "\n",
    "    df_BROADBAND = spark.read.csv(input_data_txt, quote='\"', header=True, sep=',', nullValue='NA', schema=broadband_schema)\n",
    "\n",
    "    df_BROADBAND = df_BROADBAND\\\n",
    "                               .withColumnRenamed(\"DBA Name\", \"dba_name\")\\\n",
    "                               .withColumnRenamed(\"State\", \"state\")\\\n",
    "                               .withColumnRenamed(\"Census Block FIPS Code\", \"census_block\")\\\n",
    "                               .withColumnRenamed(\"Technology Code\", \"technology\")\\\n",
    "                               .withColumnRenamed(\"Max Advertised Downstream Speed (mbps)\", \"ma_downspeed\")\\\n",
    "                               .withColumnRenamed(\"Max Advertised Upstream Speed (mbps)\", \"ma_upspeed\")\\\n",
    "                               .withColumnRenamed(\"Max CIR Downstream Speed (mbps)\",  \"mc_downspeed\")\\\n",
    "                               .withColumnRenamed(\"Max CIR Upstream Speed (mbps)\",  \"mc_upspeed\")\n",
    "\n",
    "\n",
    "    # This code selects and saves just seven of the 16 columns from the \n",
    "    # original file that have some clear potential value for the database.\n",
    "\n",
    "    df_BROADBAND = df_BROADBAND\\\n",
    "                                       .select(\n",
    "                                       \"dba_name\",\\\n",
    "                                       \"census_block\",\\\n",
    "                                       \"state\",\\\n",
    "                                       \"technology\",\\\n",
    "                                       \"ma_downspeed\",\\\n",
    "                                       \"ma_upspeed\",\\\n",
    "                                       \"mc_downspeed\",\\\n",
    "                                       \"mc_upspeed\")\n",
    "\n",
    "    return df_BROADBAND\n",
    "\n",
    "# def main():\n",
    "#     input_data_txt = sys.argv[1]\n",
    "#     output_data_txt = sys.argv[2]\n",
    "#     extract_transform_load_broadband(input_data_txt, output_data_txt)\n",
    "\n",
    "# if __name__ == '__main__':\n",
    "#     main()\n",
    "\n",
    "\n",
    "\n",
    "output_df_broadband = etl_broadband(pathname_input)\n",
    "\n",
    "\n",
    "output_df_broadband.show()"
   ]
  },
  {
   "cell_type": "code",
   "execution_count": null,
   "metadata": {},
   "outputs": [],
   "source": []
  },
  {
   "cell_type": "markdown",
   "metadata": {},
   "source": [
    "## Create Washington only dataframe"
   ]
  },
  {
   "cell_type": "code",
   "execution_count": 85,
   "metadata": {},
   "outputs": [
    {
     "name": "stdout",
     "output_type": "stream",
     "text": [
      "+--------------------+---------------+-----+----------+------------+----------+------------+----------+\n",
      "|            dba_name|   census_tract|state|technology|ma_downspeed|ma_upspeed|mc_downspeed|mc_upspeed|\n",
      "+--------------------+---------------+-----+----------+------------+----------+------------+----------+\n",
      "| StarTouch Broadband|530770018004053|   WA|        70|          25|        25|        1000|      1000|\n",
      "| StarTouch Broadband|530330304013022|   WA|        70|           0|         0|        1000|      1000|\n",
      "| StarTouch Broadband|530439604003069|   WA|        70|          25|        25|        1000|      1000|\n",
      "| StarTouch Broadband|530610402002017|   WA|        70|          25|        25|        1000|      1000|\n",
      "| StarTouch Broadband|530730102002089|   WA|        70|          25|        25|        1000|      1000|\n",
      "| StarTouch Broadband|530750009003056|   WA|        70|          25|        25|        1000|      1000|\n",
      "| StarTouch Broadband|530330029003005|   WA|        70|           0|         0|        1000|      1000|\n",
      "| StarTouch Broadband|530330320104003|   WA|        70|           0|         0|        1000|      1000|\n",
      "| StarTouch Broadband|530250109011002|   WA|        70|          25|        25|        1000|      1000|\n",
      "| StarTouch Broadband|530730101001095|   WA|        70|          25|        25|        1000|      1000|\n",
      "| StarTouch Broadband|530479704003101|   WA|        70|           0|         0|        1000|      1000|\n",
      "| StarTouch Broadband|530250114024024|   WA|        70|          25|        25|        1000|      1000|\n",
      "| StarTouch Broadband|530179502001205|   WA|        70|          25|        25|        1000|      1000|\n",
      "| StarTouch Broadband|530330323201017|   WA|        70|           0|         0|        1000|      1000|\n",
      "| StarTouch Broadband|530530729052021|   WA|        70|           0|         0|        1000|      1000|\n",
      "|Kalama Telephone ...|530150016002073|   WA|        12|          50|         5|          50|         5|\n",
      "| StarTouch Broadband|530479703001218|   WA|        70|           0|         0|        1000|      1000|\n",
      "| StarTouch Broadband|530330326011048|   WA|        70|           0|         0|        1000|      1000|\n",
      "| StarTouch Broadband|530559603003033|   WA|        70|          25|        25|        1000|      1000|\n",
      "| StarTouch Broadband|530090009001000|   WA|        70|           0|         0|        1000|      1000|\n",
      "+--------------------+---------------+-----+----------+------------+----------+------------+----------+\n",
      "only showing top 20 rows\n",
      "\n"
     ]
    }
   ],
   "source": [
    "\n",
    "df_BROADBAND_WA_ONLY = output_df_broadband.filter(output_df_broadband[\"state\"] == \"WA\")\n",
    "    \n",
    "\n",
    "df_BROADBAND_WA_ONLY.show()"
   ]
  },
  {
   "cell_type": "code",
   "execution_count": 3,
   "metadata": {},
   "outputs": [
    {
     "data": {
      "text/plain": [
       "1378559"
      ]
     },
     "execution_count": 3,
     "metadata": {},
     "output_type": "execute_result"
    }
   ],
   "source": [
    "df_BROADBAND_WA_ONLY.count() # The row count of the WA only dataset is 1,378,559"
   ]
  },
  {
   "cell_type": "markdown",
   "metadata": {},
   "source": [
    "# Create new column with census tract 4 digits removed"
   ]
  },
  {
   "cell_type": "code",
   "execution_count": 86,
   "metadata": {},
   "outputs": [
    {
     "name": "stdout",
     "output_type": "stream",
     "text": [
      "+--------------------+---------------+-----+----------+------------+----------+------------+----------+---------------+\n",
      "|            dba_name|   census_tract|state|technology|ma_downspeed|ma_upspeed|mc_downspeed|mc_upspeed|census_tract_11|\n",
      "+--------------------+---------------+-----+----------+------------+----------+------------+----------+---------------+\n",
      "| StarTouch Broadband|530770018004053|   WA|        70|          25|        25|        1000|      1000|    53077001800|\n",
      "| StarTouch Broadband|530330304013022|   WA|        70|           0|         0|        1000|      1000|    53033030401|\n",
      "| StarTouch Broadband|530439604003069|   WA|        70|          25|        25|        1000|      1000|    53043960400|\n",
      "| StarTouch Broadband|530610402002017|   WA|        70|          25|        25|        1000|      1000|    53061040200|\n",
      "| StarTouch Broadband|530730102002089|   WA|        70|          25|        25|        1000|      1000|    53073010200|\n",
      "| StarTouch Broadband|530750009003056|   WA|        70|          25|        25|        1000|      1000|    53075000900|\n",
      "| StarTouch Broadband|530330029003005|   WA|        70|           0|         0|        1000|      1000|    53033002900|\n",
      "| StarTouch Broadband|530330320104003|   WA|        70|           0|         0|        1000|      1000|    53033032010|\n",
      "| StarTouch Broadband|530250109011002|   WA|        70|          25|        25|        1000|      1000|    53025010901|\n",
      "| StarTouch Broadband|530730101001095|   WA|        70|          25|        25|        1000|      1000|    53073010100|\n",
      "| StarTouch Broadband|530479704003101|   WA|        70|           0|         0|        1000|      1000|    53047970400|\n",
      "| StarTouch Broadband|530250114024024|   WA|        70|          25|        25|        1000|      1000|    53025011402|\n",
      "| StarTouch Broadband|530179502001205|   WA|        70|          25|        25|        1000|      1000|    53017950200|\n",
      "| StarTouch Broadband|530330323201017|   WA|        70|           0|         0|        1000|      1000|    53033032320|\n",
      "| StarTouch Broadband|530530729052021|   WA|        70|           0|         0|        1000|      1000|    53053072905|\n",
      "|Kalama Telephone ...|530150016002073|   WA|        12|          50|         5|          50|         5|    53015001600|\n",
      "| StarTouch Broadband|530479703001218|   WA|        70|           0|         0|        1000|      1000|    53047970300|\n",
      "| StarTouch Broadband|530330326011048|   WA|        70|           0|         0|        1000|      1000|    53033032601|\n",
      "| StarTouch Broadband|530559603003033|   WA|        70|          25|        25|        1000|      1000|    53055960300|\n",
      "| StarTouch Broadband|530090009001000|   WA|        70|           0|         0|        1000|      1000|    53009000900|\n",
      "+--------------------+---------------+-----+----------+------------+----------+------------+----------+---------------+\n",
      "only showing top 20 rows\n",
      "\n"
     ]
    }
   ],
   "source": [
    "# Removes last 4 characters of census_tract_column:\n",
    "\n",
    "\n",
    "df_BROADBAND_WA_ONLY = df_BROADBAND_WA_ONLY.withColumn(\"census_tract_11\",expr(\"substring(census_tract, 1, 11)\"))\n",
    "\n",
    "df_BROADBAND_WA_ONLY.show()"
   ]
  },
  {
   "cell_type": "code",
   "execution_count": 87,
   "metadata": {},
   "outputs": [
    {
     "name": "stdout",
     "output_type": "stream",
     "text": [
      "+--------------------+---------------+-----+----------+------------+----------+------------+----------+---------------+--------+\n",
      "|            dba_name|   census_tract|state|technology|ma_downspeed|ma_upspeed|mc_downspeed|mc_upspeed|census_tract_11|fiber_yn|\n",
      "+--------------------+---------------+-----+----------+------------+----------+------------+----------+---------------+--------+\n",
      "| StarTouch Broadband|530770018004053|   WA|        70|          25|        25|        1000|      1000|    53077001800|       0|\n",
      "| StarTouch Broadband|530330304013022|   WA|        70|           0|         0|        1000|      1000|    53033030401|       0|\n",
      "| StarTouch Broadband|530439604003069|   WA|        70|          25|        25|        1000|      1000|    53043960400|       0|\n",
      "| StarTouch Broadband|530610402002017|   WA|        70|          25|        25|        1000|      1000|    53061040200|       0|\n",
      "| StarTouch Broadband|530730102002089|   WA|        70|          25|        25|        1000|      1000|    53073010200|       0|\n",
      "| StarTouch Broadband|530750009003056|   WA|        70|          25|        25|        1000|      1000|    53075000900|       0|\n",
      "| StarTouch Broadband|530330029003005|   WA|        70|           0|         0|        1000|      1000|    53033002900|       0|\n",
      "| StarTouch Broadband|530330320104003|   WA|        70|           0|         0|        1000|      1000|    53033032010|       0|\n",
      "| StarTouch Broadband|530250109011002|   WA|        70|          25|        25|        1000|      1000|    53025010901|       0|\n",
      "| StarTouch Broadband|530730101001095|   WA|        70|          25|        25|        1000|      1000|    53073010100|       0|\n",
      "| StarTouch Broadband|530479704003101|   WA|        70|           0|         0|        1000|      1000|    53047970400|       0|\n",
      "| StarTouch Broadband|530250114024024|   WA|        70|          25|        25|        1000|      1000|    53025011402|       0|\n",
      "| StarTouch Broadband|530179502001205|   WA|        70|          25|        25|        1000|      1000|    53017950200|       0|\n",
      "| StarTouch Broadband|530330323201017|   WA|        70|           0|         0|        1000|      1000|    53033032320|       0|\n",
      "| StarTouch Broadband|530530729052021|   WA|        70|           0|         0|        1000|      1000|    53053072905|       0|\n",
      "|Kalama Telephone ...|530150016002073|   WA|        12|          50|         5|          50|         5|    53015001600|       0|\n",
      "| StarTouch Broadband|530479703001218|   WA|        70|           0|         0|        1000|      1000|    53047970300|       0|\n",
      "| StarTouch Broadband|530330326011048|   WA|        70|           0|         0|        1000|      1000|    53033032601|       0|\n",
      "| StarTouch Broadband|530559603003033|   WA|        70|          25|        25|        1000|      1000|    53055960300|       0|\n",
      "| StarTouch Broadband|530090009001000|   WA|        70|           0|         0|        1000|      1000|    53009000900|       0|\n",
      "+--------------------+---------------+-----+----------+------------+----------+------------+----------+---------------+--------+\n",
      "only showing top 20 rows\n",
      "\n"
     ]
    }
   ],
   "source": [
    "# Transform values in Technology column to make Fiber (50) equl to 1 and non-fiber equal to 0\n",
    "\n",
    "from pyspark.sql.functions import when\n",
    "\n",
    "df_BROADBAND_WA_ONLY = df_BROADBAND_WA_ONLY\\\n",
    "        .select(\"*\", when(df_BROADBAND_WA_ONLY.technology == 50, 1)\\\n",
    "        .otherwise(0)\\\n",
    "        .alias(\"fiber_yn\"))\\\n",
    "       \n",
    "df_BROADBAND_WA_ONLY.show()"
   ]
  },
  {
   "cell_type": "code",
   "execution_count": 82,
   "metadata": {},
   "outputs": [],
   "source": [
    "df_BROADBAND_WA_ONLY.createOrReplaceTempView(\"broadband_table\")\n"
   ]
  },
  {
   "cell_type": "code",
   "execution_count": null,
   "metadata": {},
   "outputs": [],
   "source": [
    "#ALTER TABLE \"table_name\" DROP \"column_name\";\n",
    "\n",
    "\n",
    "broadband_full_table = spark.sql('ALTER TABLE broadband_table DROP ????????\n",
    "FROM broadband_table')"
   ]
  },
  {
   "cell_type": "code",
   "execution_count": null,
   "metadata": {},
   "outputs": [],
   "source": [
    "# df_BROADBAND_WA_ONLY_CT11_Added.orderBy(\"census_tract\", ascending=False).show(40)\n"
   ]
  },
  {
   "cell_type": "code",
   "execution_count": 88,
   "metadata": {},
   "outputs": [],
   "source": [
    "mode = \"overwrite\"\n",
    "database_name = 'broadband_scoutdb'\n",
    "hostname = 'ec2-54-186-79-112.us-west-2.compute.amazonaws.com'\n",
    "url = \"jdbc:postgresql://{hostname}:5432/{db}\".format(hostname=hostname, db=database_name)\n",
    "properties = {\"user\": \"postgres\",\"password\": \"postgres\",\"driver\": \"org.postgresql.Driver\"}\n",
    "df_BROADBAND_WA_ONLY.write.jdbc(url=url, table=\"broadband_table_WA_full\", properties=properties)"
   ]
  },
  {
   "cell_type": "markdown",
   "metadata": {},
   "source": [
    "# Census Tract to HPI"
   ]
  },
  {
   "cell_type": "code",
   "execution_count": 5,
   "metadata": {},
   "outputs": [
    {
     "name": "stdout",
     "output_type": "stream",
     "text": [
      "+------------+-----+----+------+\n",
      "|census_tract|state|year|   hpi|\n",
      "+------------+-----+----+------+\n",
      "| 01001020100|   AL|1998| 100.0|\n",
      "| 01001020100|   AL|1999| 94.33|\n",
      "| 01001020100|   AL|2000| 98.45|\n",
      "| 01001020100|   AL|2001|106.16|\n",
      "| 01001020100|   AL|2002|113.95|\n",
      "+------------+-----+----+------+\n",
      "only showing top 5 rows\n",
      "\n"
     ]
    }
   ],
   "source": [
    "\n",
    "    # If PYTHONPATH is not set, findspark and findspark.init() will find it on your machine \n",
    "import findspark\n",
    "findspark.init()\n",
    "\n",
    "import re\n",
    "import sys\n",
    "import spark\n",
    "from pyspark import SparkContext\n",
    "from pyspark.sql.types import *\n",
    "import os\n",
    "import sys\n",
    "# schemaString = 'something'\n",
    "\n",
    "# fields = [StructField(field_name, StringType(), True) for field_name in schemaString.split()]\n",
    "\n",
    "from pyspark.sql import SparkSession\n",
    "spark = SparkSession \\\n",
    "        .builder \\\n",
    "        .master('local') \\\n",
    "        .appName(\"BroadbandScout\")\\\n",
    "        .getOrCreate()\n",
    "\n",
    "from pyspark.sql.functions import regexp_replace, col\n",
    "\n",
    "# import pandas as pd\n",
    "\n",
    "sc = SparkContext.getOrCreate()\n",
    "\n",
    "\n",
    "pathname_input = 's3a://sparkforinsightproject/HPI_AT_BDL_tract.csv'\n",
    "\n",
    "pathname_output = 's3a://sparkforinsightproject/database_data/sparkdf_broadband_output_2'\n",
    "\n",
    "sc = SparkContext.getOrCreate()\n",
    "\n",
    "def etl_hpi_to_tract(input_data_txt):\n",
    "    \n",
    "\n",
    "\n",
    "    hpi_schema = StructType([\n",
    "        StructField(\"tract\", StringType(), True),\n",
    "        StructField(\"state_abbr\", StringType(), True),\n",
    "        StructField(\"year\", StringType(), True),\n",
    "        StructField(\"annual_change\", StringType(), True),\n",
    "        StructField(\"hpi\", FloatType(), True),\n",
    "        StructField(\"hpi1990\", FloatType(), True),\n",
    "        StructField(\"hpi2000\", FloatType(), True)\n",
    "        ])\n",
    "\n",
    "\n",
    "    df_HPI_to_TRACT = spark.read.csv(input_data_txt, header=True, schema=hpi_schema)#\\\n",
    "#                         .withColumn(\"('tract'\",regexp_replace(col(\"('tract'\"), \"\\(\", \"\"))\\\n",
    "#                         .withColumn(\"'hpi')\",regexp_replace(col(\"'hpi')\"), \"\\)\", \"\")) \n",
    "\n",
    "    df_HPI_to_TRACT = df_HPI_to_TRACT\\\n",
    "                               .withColumnRenamed(\"tract\", \"census_tract\")\\\n",
    "                               .withColumnRenamed(\"state_abbr\", \"state\")\n",
    "\n",
    "    df_HPI_to_TRACT = df_HPI_to_TRACT\\\n",
    "                                       .select(\n",
    "                                       \"census_tract\",\n",
    "                                       \"state\",\n",
    "                                       \"year\",\n",
    "                                       \"hpi\")\n",
    "\n",
    "    return df_HPI_to_TRACT\n",
    "\n",
    "output_hpi_to_tract = etl_hpi_to_tract(pathname_input)\n",
    "\n",
    "\n",
    "output_HPI_to_TRACT.show(5)"
   ]
  },
  {
   "cell_type": "code",
   "execution_count": 8,
   "metadata": {},
   "outputs": [
    {
     "name": "stdout",
     "output_type": "stream",
     "text": [
      "+------------+-----+----+------+\n",
      "|census_tract|state|year|   hpi|\n",
      "+------------+-----+----+------+\n",
      "| 53001950100|   WA|2017|121.51|\n",
      "| 53001950300|   WA|2017|250.55|\n",
      "| 53001950400|   WA|2017|204.59|\n",
      "| 53001950500|   WA|2017|218.37|\n",
      "| 53003960100|   WA|2017|258.93|\n",
      "| 53003960200|   WA|2017|261.43|\n",
      "| 53003960300|   WA|2017|172.49|\n",
      "| 53003960400|   WA|2017|156.04|\n",
      "| 53003960500|   WA|2017|260.08|\n",
      "| 53003960600|   WA|2017|240.78|\n",
      "+------------+-----+----+------+\n",
      "only showing top 10 rows\n",
      "\n"
     ]
    }
   ],
   "source": [
    "df_TRACT_HPI_2017_wa = output_hpi_to_tract.where(col('year').isin({'2017'})).where(col('state').isin({'WA'}))\n",
    "df_TRACT_HPI_2017_wa.show(10)"
   ]
  },
  {
   "cell_type": "code",
   "execution_count": 9,
   "metadata": {},
   "outputs": [
    {
     "data": {
      "text/plain": [
       "0"
      ]
     },
     "execution_count": 9,
     "metadata": {},
     "output_type": "execute_result"
    }
   ],
   "source": [
    "left_join_BROADBAND_ZIP_ADDED = df_BROADBAND_WA_ONLY_CT11_Added.join(df_TRACT_HPI_2017_wa, df_BROADBAND_WA_ONLY_CT11_Added.census_tract == df_TRACT_HPI_2017_wa.census_tract)\n",
    "\n",
    "left_join_BROADBAND_ZIP_ADDED.count()"
   ]
  },
  {
   "cell_type": "code",
   "execution_count": 77,
   "metadata": {},
   "outputs": [
    {
     "data": {
      "text/plain": [
       "1378559"
      ]
     },
     "execution_count": 77,
     "metadata": {},
     "output_type": "execute_result"
    }
   ],
   "source": [
    "# df_BROADBAND_WA_ONLY_CT11_Added.orderBy(\"census_tract\", ascending=True).show(25)\n",
    "df_BROADBAND_WA_ONLY_CT11_Added.count()"
   ]
  },
  {
   "cell_type": "code",
   "execution_count": 76,
   "metadata": {},
   "outputs": [],
   "source": [
    "mode = \"overwrite\"\n",
    "database_name = 'broadband_scoutdb'\n",
    "hostname = 'ec2-54-186-79-112.us-west-2.compute.amazonaws.com'\n",
    "url = \"jdbc:postgresql://{hostname}:5432/{db}\".format(hostname=hostname, db=database_name)\n",
    "properties = {\"user\": \"postgres\",\"password\": \"postgres\",\"driver\": \"org.postgresql.Driver\"}\n",
    "df_BROADBAND_WA_ONLY_CT11_Added.write.jdbc(url=url, table=\"broadband_table_WA_complete\", properties=properties)"
   ]
  },
  {
   "cell_type": "code",
   "execution_count": 75,
   "metadata": {},
   "outputs": [
    {
     "name": "stdout",
     "output_type": "stream",
     "text": [
      "+--------------------+---------------+-----+----------+------------+----------+------------+----------+---------------+\n",
      "|            dba_name|   census_tract|state|technology|ma_downspeed|ma_upspeed|mc_downspeed|mc_upspeed|census_tract_11|\n",
      "+--------------------+---------------+-----+----------+------------+----------+------------+----------+---------------+\n",
      "|         CenturyLink|530270015002041|   WA|        50|        1000|      1000|           0|         0|    53027001500|\n",
      "|   Chelan County PUD|530079604003039|   WA|        50|        1000|       100|           0|         0|    53007960400|\n",
      "|Douglas County P....|530179508002007|   WA|        30|        1000|      1000|        1000|      1000|    53017950800|\n",
      "|         CenturyLink|530530604001012|   WA|        50|        1000|      1000|           0|         0|    53053060400|\n",
      "|           Cable ONE|530039602002004|   WA|        42|        1000|        50|           0|         0|    53003960200|\n",
      "|         CenturyLink|530110417002002|   WA|        50|        1000|      1000|           0|         0|    53011041700|\n",
      "|         CenturyLink|530330105004006|   WA|        50|        1000|      1000|           0|         0|    53033010500|\n",
      "|         CenturyLink|530090009001018|   WA|        50|        1000|      1000|           0|         0|    53009000900|\n",
      "|         CenturyLink|530330019002014|   WA|        50|        1000|      1000|           0|         0|    53033001900|\n",
      "|Public Utility Di...|530250113001127|   WA|        50|        1000|      1000|           0|         0|    53025011300|\n",
      "|         CenturyLink|530330006006010|   WA|        50|        1000|      1000|           0|         0|    53033000600|\n",
      "|         CenturyLink|530330288022040|   WA|        50|        1000|      1000|           0|         0|    53033028802|\n",
      "|Public Utility Di...|530250112002015|   WA|        50|        1000|      1000|           0|         0|    53025011200|\n",
      "|         CenturyLink|530530719021006|   WA|        50|        1000|      1000|           0|         0|    53053071902|\n",
      "|         CenturyLink|530330038001006|   WA|        50|        1000|      1000|           0|         0|    53033003800|\n",
      "|Hood Canal Commun...|530459605002010|   WA|        50|        1000|      1000|           0|         0|    53045960500|\n",
      "|         CenturyLink|530110417001021|   WA|        50|        1000|      1000|           0|         0|    53011041700|\n",
      "|         CenturyLink|530330258042014|   WA|        50|        1000|      1000|           0|         0|    53033025804|\n",
      "|         CenturyLink|530530719022002|   WA|        50|        1000|      1000|           0|         0|    53053071902|\n",
      "|         CenturyLink|530330118006018|   WA|        50|        1000|      1000|           0|         0|    53033011800|\n",
      "|         CenturyLink|530330058014056|   WA|        50|        1000|      1000|           0|         0|    53033005801|\n",
      "|         CenturyLink|530330028004009|   WA|        50|        1000|      1000|           0|         0|    53033002800|\n",
      "|         CenturyLink|530330205002000|   WA|        50|        1000|      1000|           0|         0|    53033020500|\n",
      "|                Wave|530330073001014|   WA|        30|        1000|      1000|           0|         0|    53033007300|\n",
      "|The Toledo Teleph...|530419712002039|   WA|        50|        1000|      1000|        1000|      1000|    53041971200|\n",
      "+--------------------+---------------+-----+----------+------------+----------+------------+----------+---------------+\n",
      "only showing top 25 rows\n",
      "\n"
     ]
    }
   ],
   "source": [
    "df_BROADBAND_WA_ONLY_CT11_Added.orderBy(\"ma_downspeed\", ascending=False).show(25)\n"
   ]
  },
  {
   "cell_type": "code",
   "execution_count": 67,
   "metadata": {},
   "outputs": [
    {
     "name": "stdout",
     "output_type": "stream",
     "text": [
      "+---------------+-----+----------+------------+----------+------------+----------+---------------+------------+-----+----+----+\n",
      "|   census_tract|state|technology|ma_downspeed|ma_upspeed|mc_downspeed|mc_upspeed|census_tract_11|census_tract|state|year| hpi|\n",
      "+---------------+-----+----------+------------+----------+------------+----------+---------------+------------+-----+----+----+\n",
      "|530019501001055|   WA|        70|          25|        25|        1000|      1000|    53001950100|        null| null|null|null|\n",
      "|530019501001055|   WA|        60|           5|         1|           0|         0|    53001950100|        null| null|null|null|\n",
      "|530019501001055|   WA|        70|         100|       100|           0|         0|    53001950100|        null| null|null|null|\n",
      "|530019501001055|   WA|        60|           0|         0|           0|         0|    53001950100|        null| null|null|null|\n",
      "|530019501001055|   WA|        70|          15|        15|          15|        15|    53001950100|        null| null|null|null|\n",
      "|530019501001055|   WA|        50|          50|        50|          50|        50|    53001950100|        null| null|null|null|\n",
      "|530019501001055|   WA|        60|          25|         3|           0|         0|    53001950100|        null| null|null|null|\n",
      "|530019501001255|   WA|        70|          25|        25|        1000|      1000|    53001950100|        null| null|null|null|\n",
      "|530019501001255|   WA|        60|           0|         0|           0|         0|    53001950100|        null| null|null|null|\n",
      "|530019501001255|   WA|        60|           5|         1|           0|         0|    53001950100|        null| null|null|null|\n",
      "|530019501001255|   WA|        70|         100|       100|           0|         0|    53001950100|        null| null|null|null|\n",
      "|530019501001255|   WA|        60|          25|         3|           0|         0|    53001950100|        null| null|null|null|\n",
      "|530019501001386|   WA|        70|          25|        25|        1000|      1000|    53001950100|        null| null|null|null|\n",
      "|530019501001386|   WA|        60|          25|         3|           0|         0|    53001950100|        null| null|null|null|\n",
      "|530019501001386|   WA|        60|           0|         0|           0|         0|    53001950100|        null| null|null|null|\n",
      "|530019501001386|   WA|        60|           5|         1|           0|         0|    53001950100|        null| null|null|null|\n",
      "|530019501001386|   WA|        70|         100|       100|           0|         0|    53001950100|        null| null|null|null|\n",
      "|530019502001029|   WA|        70|          25|        25|        1000|      1000|    53001950200|        null| null|null|null|\n",
      "|530019502001029|   WA|        60|           0|         0|           0|         0|    53001950200|        null| null|null|null|\n",
      "|530019502001029|   WA|        60|           5|         1|           0|         0|    53001950200|        null| null|null|null|\n",
      "+---------------+-----+----------+------------+----------+------------+----------+---------------+------------+-----+----+----+\n",
      "only showing top 20 rows\n",
      "\n"
     ]
    }
   ],
   "source": [
    "df_BROADBAND_ZIP_WA = df_BROADBAND_WA_ONLY_CT11_Added.join(df_TRACT_HPI_2017_wa, \\\n",
    "    df_BROADBAND_WA_ONLY_CT11_Added.census_tract == df_TRACT_HPI_2017_wa.census_tract, how='left')\n",
    "df_BROADBAND_ZIP_WA.show(20)"
   ]
  },
  {
   "cell_type": "code",
   "execution_count": 18,
   "metadata": {},
   "outputs": [
    {
     "ename": "AnalysisException",
     "evalue": "u\"Reference 'census_tract' is ambiguous, could be: census_tract, census_tract.;\"",
     "output_type": "error",
     "traceback": [
      "\u001b[0;31m---------------------------------------------------------------------------\u001b[0m",
      "\u001b[0;31mAnalysisException\u001b[0m                         Traceback (most recent call last)",
      "\u001b[0;32m<ipython-input-18-9fbe5dae740d>\u001b[0m in \u001b[0;36m<module>\u001b[0;34m()\u001b[0m\n\u001b[1;32m     11\u001b[0m \u001b[0;31m# df.agg(*[count_not_null(c) for c in df.columns]).show()\u001b[0m\u001b[0;34m\u001b[0m\u001b[0;34m\u001b[0m\u001b[0m\n\u001b[1;32m     12\u001b[0m \u001b[0;34m\u001b[0m\u001b[0m\n\u001b[0;32m---> 13\u001b[0;31m \u001b[0mleft_join_BROADBAND_ZIP_ADDED\u001b[0m\u001b[0;34m.\u001b[0m\u001b[0magg\u001b[0m\u001b[0;34m(\u001b[0m\u001b[0;34m*\u001b[0m\u001b[0;34m[\u001b[0m\u001b[0mcount_not_null\u001b[0m\u001b[0;34m(\u001b[0m\u001b[0mc\u001b[0m\u001b[0;34m,\u001b[0m \u001b[0mTrue\u001b[0m\u001b[0;34m)\u001b[0m \u001b[0;32mfor\u001b[0m \u001b[0mc\u001b[0m \u001b[0;32min\u001b[0m \u001b[0mleft_join_BROADBAND_ZIP_ADDED\u001b[0m\u001b[0;34m.\u001b[0m\u001b[0mcolumns\u001b[0m\u001b[0;34m]\u001b[0m\u001b[0;34m)\u001b[0m\u001b[0;34m.\u001b[0m\u001b[0mshow\u001b[0m\u001b[0;34m(\u001b[0m\u001b[0;34m)\u001b[0m\u001b[0;34m\u001b[0m\u001b[0m\n\u001b[0m",
      "\u001b[0;32m/usr/local/spark/python/pyspark/sql/dataframe.pyc\u001b[0m in \u001b[0;36magg\u001b[0;34m(self, *exprs)\u001b[0m\n\u001b[1;32m   1325\u001b[0m         \u001b[0;34m[\u001b[0m\u001b[0mRow\u001b[0m\u001b[0;34m(\u001b[0m\u001b[0mmin\u001b[0m\u001b[0;34m(\u001b[0m\u001b[0mage\u001b[0m\u001b[0;34m)\u001b[0m\u001b[0;34m=\u001b[0m\u001b[0;36m2\u001b[0m\u001b[0;34m)\u001b[0m\u001b[0;34m]\u001b[0m\u001b[0;34m\u001b[0m\u001b[0m\n\u001b[1;32m   1326\u001b[0m         \"\"\"\n\u001b[0;32m-> 1327\u001b[0;31m         \u001b[0;32mreturn\u001b[0m \u001b[0mself\u001b[0m\u001b[0;34m.\u001b[0m\u001b[0mgroupBy\u001b[0m\u001b[0;34m(\u001b[0m\u001b[0;34m)\u001b[0m\u001b[0;34m.\u001b[0m\u001b[0magg\u001b[0m\u001b[0;34m(\u001b[0m\u001b[0;34m*\u001b[0m\u001b[0mexprs\u001b[0m\u001b[0;34m)\u001b[0m\u001b[0;34m\u001b[0m\u001b[0m\n\u001b[0m\u001b[1;32m   1328\u001b[0m \u001b[0;34m\u001b[0m\u001b[0m\n\u001b[1;32m   1329\u001b[0m     \u001b[0;34m@\u001b[0m\u001b[0msince\u001b[0m\u001b[0;34m(\u001b[0m\u001b[0;36m2.0\u001b[0m\u001b[0;34m)\u001b[0m\u001b[0;34m\u001b[0m\u001b[0m\n",
      "\u001b[0;32m/usr/local/spark/python/pyspark/sql/group.pyc\u001b[0m in \u001b[0;36magg\u001b[0;34m(self, *exprs)\u001b[0m\n\u001b[1;32m     91\u001b[0m             \u001b[0;32massert\u001b[0m \u001b[0mall\u001b[0m\u001b[0;34m(\u001b[0m\u001b[0misinstance\u001b[0m\u001b[0;34m(\u001b[0m\u001b[0mc\u001b[0m\u001b[0;34m,\u001b[0m \u001b[0mColumn\u001b[0m\u001b[0;34m)\u001b[0m \u001b[0;32mfor\u001b[0m \u001b[0mc\u001b[0m \u001b[0;32min\u001b[0m \u001b[0mexprs\u001b[0m\u001b[0;34m)\u001b[0m\u001b[0;34m,\u001b[0m \u001b[0;34m\"all exprs should be Column\"\u001b[0m\u001b[0;34m\u001b[0m\u001b[0m\n\u001b[1;32m     92\u001b[0m             jdf = self._jgd.agg(exprs[0]._jc,\n\u001b[0;32m---> 93\u001b[0;31m                                 _to_seq(self.sql_ctx._sc, [c._jc for c in exprs[1:]]))\n\u001b[0m\u001b[1;32m     94\u001b[0m         \u001b[0;32mreturn\u001b[0m \u001b[0mDataFrame\u001b[0m\u001b[0;34m(\u001b[0m\u001b[0mjdf\u001b[0m\u001b[0;34m,\u001b[0m \u001b[0mself\u001b[0m\u001b[0;34m.\u001b[0m\u001b[0msql_ctx\u001b[0m\u001b[0;34m)\u001b[0m\u001b[0;34m\u001b[0m\u001b[0m\n\u001b[1;32m     95\u001b[0m \u001b[0;34m\u001b[0m\u001b[0m\n",
      "\u001b[0;32m/usr/local/spark/python/lib/py4j-0.10.7-src.zip/py4j/java_gateway.py\u001b[0m in \u001b[0;36m__call__\u001b[0;34m(self, *args)\u001b[0m\n\u001b[1;32m   1255\u001b[0m         \u001b[0manswer\u001b[0m \u001b[0;34m=\u001b[0m \u001b[0mself\u001b[0m\u001b[0;34m.\u001b[0m\u001b[0mgateway_client\u001b[0m\u001b[0;34m.\u001b[0m\u001b[0msend_command\u001b[0m\u001b[0;34m(\u001b[0m\u001b[0mcommand\u001b[0m\u001b[0;34m)\u001b[0m\u001b[0;34m\u001b[0m\u001b[0m\n\u001b[1;32m   1256\u001b[0m         return_value = get_return_value(\n\u001b[0;32m-> 1257\u001b[0;31m             answer, self.gateway_client, self.target_id, self.name)\n\u001b[0m\u001b[1;32m   1258\u001b[0m \u001b[0;34m\u001b[0m\u001b[0m\n\u001b[1;32m   1259\u001b[0m         \u001b[0;32mfor\u001b[0m \u001b[0mtemp_arg\u001b[0m \u001b[0;32min\u001b[0m \u001b[0mtemp_args\u001b[0m\u001b[0;34m:\u001b[0m\u001b[0;34m\u001b[0m\u001b[0m\n",
      "\u001b[0;32m/usr/local/spark/python/pyspark/sql/utils.pyc\u001b[0m in \u001b[0;36mdeco\u001b[0;34m(*a, **kw)\u001b[0m\n\u001b[1;32m     67\u001b[0m                                              e.java_exception.getStackTrace()))\n\u001b[1;32m     68\u001b[0m             \u001b[0;32mif\u001b[0m \u001b[0ms\u001b[0m\u001b[0;34m.\u001b[0m\u001b[0mstartswith\u001b[0m\u001b[0;34m(\u001b[0m\u001b[0;34m'org.apache.spark.sql.AnalysisException: '\u001b[0m\u001b[0;34m)\u001b[0m\u001b[0;34m:\u001b[0m\u001b[0;34m\u001b[0m\u001b[0m\n\u001b[0;32m---> 69\u001b[0;31m                 \u001b[0;32mraise\u001b[0m \u001b[0mAnalysisException\u001b[0m\u001b[0;34m(\u001b[0m\u001b[0ms\u001b[0m\u001b[0;34m.\u001b[0m\u001b[0msplit\u001b[0m\u001b[0;34m(\u001b[0m\u001b[0;34m': '\u001b[0m\u001b[0;34m,\u001b[0m \u001b[0;36m1\u001b[0m\u001b[0;34m)\u001b[0m\u001b[0;34m[\u001b[0m\u001b[0;36m1\u001b[0m\u001b[0;34m]\u001b[0m\u001b[0;34m,\u001b[0m \u001b[0mstackTrace\u001b[0m\u001b[0;34m)\u001b[0m\u001b[0;34m\u001b[0m\u001b[0m\n\u001b[0m\u001b[1;32m     70\u001b[0m             \u001b[0;32mif\u001b[0m \u001b[0ms\u001b[0m\u001b[0;34m.\u001b[0m\u001b[0mstartswith\u001b[0m\u001b[0;34m(\u001b[0m\u001b[0;34m'org.apache.spark.sql.catalyst.analysis'\u001b[0m\u001b[0;34m)\u001b[0m\u001b[0;34m:\u001b[0m\u001b[0;34m\u001b[0m\u001b[0m\n\u001b[1;32m     71\u001b[0m                 \u001b[0;32mraise\u001b[0m \u001b[0mAnalysisException\u001b[0m\u001b[0;34m(\u001b[0m\u001b[0ms\u001b[0m\u001b[0;34m.\u001b[0m\u001b[0msplit\u001b[0m\u001b[0;34m(\u001b[0m\u001b[0;34m': '\u001b[0m\u001b[0;34m,\u001b[0m \u001b[0;36m1\u001b[0m\u001b[0;34m)\u001b[0m\u001b[0;34m[\u001b[0m\u001b[0;36m1\u001b[0m\u001b[0;34m]\u001b[0m\u001b[0;34m,\u001b[0m \u001b[0mstackTrace\u001b[0m\u001b[0;34m)\u001b[0m\u001b[0;34m\u001b[0m\u001b[0m\n",
      "\u001b[0;31mAnalysisException\u001b[0m: u\"Reference 'census_tract' is ambiguous, could be: census_tract, census_tract.;\""
     ]
    }
   ],
   "source": [
    "from pyspark.sql.functions import col, count, isnan, lit, sum\n",
    "\n",
    "def count_not_null(c, nan_as_null=False):\n",
    "    \"\"\"Use conversion between boolean and integer\n",
    "    - False -> 0\n",
    "    - True ->  1\n",
    "    \"\"\"\n",
    "    pred = col(c).isNotNull() & (~isnan(c) if nan_as_null else lit(True))\n",
    "    return sum(pred.cast(\"integer\")).alias(c)\n",
    "\n",
    "# df.agg(*[count_not_null(c) for c in df.columns]).show()\n",
    "\n",
    "left_join_BROADBAND_ZIP_ADDED.agg(*[count_not_null(c, True) for c in left_join_BROADBAND_ZIP_ADDED.columns]).show()\n"
   ]
  },
  {
   "cell_type": "code",
   "execution_count": 64,
   "metadata": {},
   "outputs": [
    {
     "name": "stdout",
     "output_type": "stream",
     "text": [
      "+--------------+----------------+----------------+----------------+---------------------+----------------+-------------+\n",
      "|  census_tract|percent_minority|ct_median_income|la_median_income|area_media_fam_income|acquisition_cost|property_type|\n",
      "+--------------+----------------+----------------+----------------+---------------------+----------------+-------------+\n",
      "| '31109002300'|           17.71|           60739|           70200|                72000|           88000|            2|\n",
      "| '06071009908'|           64.58|           51667|           61507|                63200|          218000|            2|\n",
      "| '34039036302'|           11.32|          124306|           81054|                89400|          273000|            2|\n",
      "| '12081001404'|           25.28|           53357|           62814|                65500|          279000|            2|\n",
      "| '28121020206'|           20.31|           84026|           56700|                63200|          127000|            2|\n",
      "+--------------+----------------+----------------+----------------+---------------------+----------------+-------------+\n",
      "only showing top 5 rows\n",
      "\n"
     ]
    }
   ],
   "source": [
    "#!/usr/bin/env python\n",
    "\n",
    "# Reading the Fannie Mae and Freddie Mac housing datasets, transforming them, reading in the \n",
    "# relevant columns to a dataframe, and uniting those datasets into one.\n",
    "\n",
    "# Data is available here: \n",
    "\n",
    "# sc = SparkContext()\n",
    "\n",
    "import findspark\n",
    "findspark.init()\n",
    "\n",
    "import re\n",
    "import sys\n",
    "import spark\n",
    "from pyspark import SparkContext\n",
    "from pyspark.sql.types import *\n",
    "import os\n",
    "import sys\n",
    "\n",
    "from pyspark.sql import SparkSession\n",
    "spark = SparkSession \\\n",
    "        .builder \\\n",
    "        .master('local') \\\n",
    "        .appName(\"BroadbandScout\")\\\n",
    "        .getOrCreate()\n",
    "\n",
    "sc = SparkContext.getOrCreate()\n",
    "\n",
    "from pyspark.sql.functions import concat, col, lit\n",
    "\n",
    "\n",
    "#!/usr/bin/env python\n",
    "\n",
    "# Reading the Fannie Mae and Freddie Mac housing datasets, transforming them, reading in the \n",
    "# relevant columns to a dataframe, and uniting those datasets into one.\n",
    "\n",
    "# Data is available here: \n",
    "\n",
    "\n",
    "from pyspark.sql.functions import regexp_replace, col\n",
    "\n",
    "\n",
    "pathname_FANNIE = 's3a://sparkforinsightproject/fnma_sf2017c_loans.txt'\n",
    "\n",
    "\n",
    "pathname_FREDDIE = 's3a://sparkforinsightproject/fhlmc_sf2017c_loans.txt'\n",
    "\n",
    "\n",
    "\n",
    "pathname_output_UNITED = 's3a://sparkforinsightproject/database_data/transformed_fhlmc_fnma_HOUSING_dataset'\n",
    "\n",
    "\n",
    "def etl_fannie_freddie_data(input_FANNIE_txt, input_FREDDIE_txt):\n",
    "    \n",
    "    rdd_FANNIE_data = sc.textFile(input_FANNIE_txt)\n",
    "\n",
    "\n",
    "    rdd_FANNIE_data = rdd_FANNIE_data.map(lambda x: x.encode('ascii', 'ignore'))\\\n",
    "                            .map(lambda l: l.split())\\\n",
    "                            .map(lambda l: (l[1], l[2] + l[4] + l[5], float(l[6]), int(l[7]), int(l[8]), int(l[11]), int(l[13]), int(l[36]), l[37]))    \n",
    "\n",
    "    # Column indices wanted: 1- 2+4+5 (Census Tract), 2- 6 ( Minority), 3- 7 (Census Tract Median income), 4- 8 (Local Area Median Income), \n",
    "    # 5- 11 (Area Median Family Income), 6- 13 (Acquisition Cost/Original UPB, 7- 36 (Property Type)\n",
    "    \n",
    "    \n",
    "    housing_schema = StructType([\n",
    "    StructField('_c0', StringType(), True),\n",
    "    StructField('_c1', StringType(), True),\n",
    "    StructField(\"_c2\", FloatType(), True),\n",
    "    StructField(\"_c3\", IntegerType(), True),\n",
    "    StructField('_c4', IntegerType(), True),\n",
    "    StructField(\"_c5\", IntegerType(), True),\n",
    "    StructField(\"_c6\", IntegerType(), True),\n",
    "    StructField('_c7', StringType(), True),\n",
    "    StructField('_c8', StringType(), True),\n",
    "    ])\n",
    "    \n",
    "    # Column indices wanted: 2+4+5 (Census Tract), 6 (Percent Minority), 7 (Census Tract Median income) 8 (Local Area Median Income), 11 (Area Median Family Income), 13 (Acquisition Cost/Original UPB, 19, \n",
    "    \n",
    "    df_FANNIE = spark.read.csv(rdd_FANNIE_data, mode='DROPMALFORMED', nullValue='NA', header=False) #, schema=housing_schema)\n",
    "\n",
    "    \n",
    "    rdd_FREDDIE_data = sc.textFile(input_FREDDIE_txt)\n",
    "\n",
    "    rdd_FREDDIE_data = rdd_FREDDIE_data.map(lambda x: x.encode('ascii', 'ignore'))\\\n",
    "                        .map(lambda l: l.split())\\\n",
    "                        .map(lambda l: (l[1], l[2] + l[4] + l[5], float(l[6]), int(l[7]), int(l[8]), int(l[11]), int(l[13]), int(l[36]), l[37]))    \n",
    "    \n",
    "\n",
    "    df_FREDDIE = spark.read.csv(rdd_FREDDIE_data, mode='DROPMALFORMED', nullValue='NA', header=False) #, schema=housing_schema)\n",
    "    \n",
    "    \n",
    "\n",
    "    df_FRANNIE_FREDDIE_UNITED = df_FANNIE.union(df_FREDDIE)\n",
    "    \n",
    "    df_FRANNIE_FREDDIE_UNITED = df_FRANNIE_FREDDIE_UNITED\\\n",
    "                                       .select(\n",
    "                                       \"_c1\",\\\n",
    "                                       \"_c2\",\\\n",
    "                                       \"_c3\",\\\n",
    "                                       \"_c4\",\\\n",
    "                                       \"_c5\",\\\n",
    "                                       \"_c6\",\\\n",
    "                                       \"_c7\")\n",
    "    \n",
    "\n",
    "#     # Column indices wanted: 2+4+5 (Census Tract), 6 (Percent Minority), 7 (Census Tract Median income) 8 (Local Area Median Income), 11 (Area Median Family Income), 13 (Acquisition Cost/Original UPB, 19 , \n",
    "\n",
    "    \n",
    "    df_FRANNIE_FREDDIE_UNITED = df_FRANNIE_FREDDIE_UNITED\\\n",
    "                           .withColumnRenamed(\"_c1\", \"census_tract\")\\\n",
    "                           .withColumnRenamed(\"_c2\", \"percent_minority\")\\\n",
    "                           .withColumnRenamed(\"_c3\", \"ct_median_income\")\\\n",
    "                           .withColumnRenamed(\"_c4\", \"la_median_income\")\\\n",
    "                           .withColumnRenamed(\"_c5\",  \"area_media_fam_income\")\\\n",
    "                           .withColumnRenamed(\"_c6\",  \"acquisition_cost\")\\\n",
    "                           .withColumnRenamed(\"_c7\", \"property_type\")\n",
    "    \n",
    "#     df_FRANNIE_FREDDIE_UNITED = df_FRANNIE_FREDDIE_UNITED.withColumn(\"acquisition_cost\", df_FRANNIE_FREDDIE_UNITED[\"acquisition_cost\"].cast(IntegerType()))\n",
    "\n",
    "#     df_FRANNIE_FREDDIE_UNITED.createOrReplaceTempView(\"df_housing\")\n",
    "#     df_FRANNIE_FREDDIE_UNITED = spark.sql(\"select census_tract, cast(percent_minority as float) as percent_minority, cast(ct_median_income as int) as ct_median_income, cast(la_median_income as int) as la_median_income, cast(area_media_fam_income as int) as area_media_fam_income, cast(acquisition_cost as int) as acquisition_cost, cast(property_type cast as int) as property_type from df_housing\")\n",
    "    \n",
    "    \n",
    "#     df_FRANNIE_FREDDIE_UNITED = df_FRANNIE_FREDDIE_UNITED.select(concat(col(\"state_code\"), col(\"county_code\"), col(\"census_code\")))\n",
    "\n",
    "\n",
    "    return df_FRANNIE_FREDDIE_UNITED\n",
    "\n",
    "    \n",
    "    \n",
    "df_united_FANNIE_FREDDIE = etl_fannie_freddie_data(pathname_FANNIE, pathname_FREDDIE)\n",
    "\n",
    "\n",
    "df_united_FANNIE_FREDDIE.show(5)\n"
   ]
  },
  {
   "cell_type": "code",
   "execution_count": 59,
   "metadata": {},
   "outputs": [],
   "source": [
    "mode = \"overwrite\"\n",
    "database_name = 'broadband_scoutdb'\n",
    "hostname = 'ec2-54-186-79-112.us-west-2.compute.amazonaws.com'\n",
    "url = \"jdbc:postgresql://{hostname}:5432/{db}\".format(hostname=hostname, db=database_name)\n",
    "properties = {\"user\": \"postgres\",\"password\": \"postgres\",\"driver\": \"org.postgresql.Driver\"}\n",
    "df_united_FANNIE_FREDDIE.write.jdbc(url=url, table=\"housing_table_test\", properties=properties)"
   ]
  },
  {
   "cell_type": "code",
   "execution_count": 66,
   "metadata": {},
   "outputs": [
    {
     "name": "stdout",
     "output_type": "stream",
     "text": [
      "+---------------+-----+----------+------------+----------+------------+----------+---------------+------------+----------------+----------------+----------------+---------------------+----------------+-------------+\n",
      "|   census_tract|state|technology|ma_downspeed|ma_upspeed|mc_downspeed|mc_upspeed|census_tract_11|census_tract|percent_minority|ct_median_income|la_median_income|area_media_fam_income|acquisition_cost|property_type|\n",
      "+---------------+-----+----------+------------+----------+------------+----------+---------------+------------+----------------+----------------+----------------+---------------------+----------------+-------------+\n",
      "|530019501001055|   WA|        70|          25|        25|        1000|      1000|    53001950100|        null|            null|            null|            null|                 null|            null|         null|\n",
      "|530019501001055|   WA|        60|           5|         1|           0|         0|    53001950100|        null|            null|            null|            null|                 null|            null|         null|\n",
      "|530019501001055|   WA|        70|         100|       100|           0|         0|    53001950100|        null|            null|            null|            null|                 null|            null|         null|\n",
      "|530019501001055|   WA|        60|           0|         0|           0|         0|    53001950100|        null|            null|            null|            null|                 null|            null|         null|\n",
      "|530019501001055|   WA|        70|          15|        15|          15|        15|    53001950100|        null|            null|            null|            null|                 null|            null|         null|\n",
      "|530019501001055|   WA|        50|          50|        50|          50|        50|    53001950100|        null|            null|            null|            null|                 null|            null|         null|\n",
      "|530019501001055|   WA|        60|          25|         3|           0|         0|    53001950100|        null|            null|            null|            null|                 null|            null|         null|\n",
      "|530019501001255|   WA|        70|          25|        25|        1000|      1000|    53001950100|        null|            null|            null|            null|                 null|            null|         null|\n",
      "|530019501001255|   WA|        60|           0|         0|           0|         0|    53001950100|        null|            null|            null|            null|                 null|            null|         null|\n",
      "|530019501001255|   WA|        60|           5|         1|           0|         0|    53001950100|        null|            null|            null|            null|                 null|            null|         null|\n",
      "|530019501001255|   WA|        70|         100|       100|           0|         0|    53001950100|        null|            null|            null|            null|                 null|            null|         null|\n",
      "|530019501001255|   WA|        60|          25|         3|           0|         0|    53001950100|        null|            null|            null|            null|                 null|            null|         null|\n",
      "|530019501001386|   WA|        70|          25|        25|        1000|      1000|    53001950100|        null|            null|            null|            null|                 null|            null|         null|\n",
      "|530019501001386|   WA|        60|          25|         3|           0|         0|    53001950100|        null|            null|            null|            null|                 null|            null|         null|\n",
      "|530019501001386|   WA|        60|           0|         0|           0|         0|    53001950100|        null|            null|            null|            null|                 null|            null|         null|\n",
      "|530019501001386|   WA|        60|           5|         1|           0|         0|    53001950100|        null|            null|            null|            null|                 null|            null|         null|\n",
      "|530019501001386|   WA|        70|         100|       100|           0|         0|    53001950100|        null|            null|            null|            null|                 null|            null|         null|\n",
      "|530019502001029|   WA|        70|          25|        25|        1000|      1000|    53001950200|        null|            null|            null|            null|                 null|            null|         null|\n",
      "|530019502001029|   WA|        60|           0|         0|           0|         0|    53001950200|        null|            null|            null|            null|                 null|            null|         null|\n",
      "|530019502001029|   WA|        60|           5|         1|           0|         0|    53001950200|        null|            null|            null|            null|                 null|            null|         null|\n",
      "+---------------+-----+----------+------------+----------+------------+----------+---------------+------------+----------------+----------------+----------------+---------------------+----------------+-------------+\n",
      "only showing top 20 rows\n",
      "\n"
     ]
    }
   ],
   "source": [
    "left_join_BROADBAND_HOUSING = df_BROADBAND_WA_ONLY_CT11_Added.join(df_united_FANNIE_FREDDIE, df_BROADBAND_WA_ONLY_CT11_Added.census_tract == df_united_FANNIE_FREDDIE.census_tract, how='left')\n",
    "left_join_BROADBAND_HOUSING.show()"
   ]
  },
  {
   "cell_type": "code",
   "execution_count": null,
   "metadata": {},
   "outputs": [],
   "source": []
  }
 ],
 "metadata": {
  "kernelspec": {
   "display_name": "Python 2",
   "language": "python",
   "name": "python2"
  },
  "language_info": {
   "codemirror_mode": {
    "name": "ipython",
    "version": 2
   },
   "file_extension": ".py",
   "mimetype": "text/x-python",
   "name": "python",
   "nbconvert_exporter": "python",
   "pygments_lexer": "ipython2",
   "version": "2.7.12"
  }
 },
 "nbformat": 4,
 "nbformat_minor": 2
}
